{
 "cells": [
  {
   "cell_type": "markdown",
   "id": "66d33cb4",
   "metadata": {},
   "source": [
    "### Ml Toolkit"
   ]
  },
  {
   "cell_type": "code",
   "execution_count": 1,
   "id": "145c2ad5",
   "metadata": {},
   "outputs": [],
   "source": [
    "import numpy as np\n",
    "import pandas as pd\n",
    "import matplotlib.pyplot as plt\n",
    "import seaborn as sns\n",
    "%matplotlib inline"
   ]
  },
  {
   "cell_type": "markdown",
   "id": "e9024139",
   "metadata": {},
   "source": [
    "### Restaurant Reviews | sentiment analysis (case study)"
   ]
  },
  {
   "cell_type": "markdown",
   "id": "84d6246c",
   "metadata": {},
   "source": [
    "dataset source ==> https://www.kaggle.com/datasets/d4rklucif3r/restaurant-reviews"
   ]
  },
  {
   "cell_type": "markdown",
   "id": "145b0c6f",
   "metadata": {},
   "source": [
    "### load data"
   ]
  },
  {
   "cell_type": "code",
   "execution_count": 2,
   "id": "36cc251d",
   "metadata": {},
   "outputs": [],
   "source": [
    "df=pd.read_csv(\"Restaurant_Reviews.tsv\",delimiter='\\t')"
   ]
  },
  {
   "cell_type": "code",
   "execution_count": 3,
   "id": "6a111ebb",
   "metadata": {},
   "outputs": [
    {
     "data": {
      "text/html": [
       "<div>\n",
       "<style scoped>\n",
       "    .dataframe tbody tr th:only-of-type {\n",
       "        vertical-align: middle;\n",
       "    }\n",
       "\n",
       "    .dataframe tbody tr th {\n",
       "        vertical-align: top;\n",
       "    }\n",
       "\n",
       "    .dataframe thead th {\n",
       "        text-align: right;\n",
       "    }\n",
       "</style>\n",
       "<table border=\"1\" class=\"dataframe\">\n",
       "  <thead>\n",
       "    <tr style=\"text-align: right;\">\n",
       "      <th></th>\n",
       "      <th>Review</th>\n",
       "      <th>Liked</th>\n",
       "    </tr>\n",
       "  </thead>\n",
       "  <tbody>\n",
       "    <tr>\n",
       "      <th>0</th>\n",
       "      <td>Wow... Loved this place.</td>\n",
       "      <td>1</td>\n",
       "    </tr>\n",
       "    <tr>\n",
       "      <th>1</th>\n",
       "      <td>Crust is not good.</td>\n",
       "      <td>0</td>\n",
       "    </tr>\n",
       "    <tr>\n",
       "      <th>2</th>\n",
       "      <td>Not tasty and the texture was just nasty.</td>\n",
       "      <td>0</td>\n",
       "    </tr>\n",
       "    <tr>\n",
       "      <th>3</th>\n",
       "      <td>Stopped by during the late May bank holiday of...</td>\n",
       "      <td>1</td>\n",
       "    </tr>\n",
       "    <tr>\n",
       "      <th>4</th>\n",
       "      <td>The selection on the menu was great and so wer...</td>\n",
       "      <td>1</td>\n",
       "    </tr>\n",
       "  </tbody>\n",
       "</table>\n",
       "</div>"
      ],
      "text/plain": [
       "                                              Review  Liked\n",
       "0                           Wow... Loved this place.      1\n",
       "1                                 Crust is not good.      0\n",
       "2          Not tasty and the texture was just nasty.      0\n",
       "3  Stopped by during the late May bank holiday of...      1\n",
       "4  The selection on the menu was great and so wer...      1"
      ]
     },
     "execution_count": 3,
     "metadata": {},
     "output_type": "execute_result"
    }
   ],
   "source": [
    "df.head()"
   ]
  },
  {
   "cell_type": "code",
   "execution_count": 4,
   "id": "2488a47c",
   "metadata": {},
   "outputs": [
    {
     "name": "stdout",
     "output_type": "stream",
     "text": [
      "<class 'pandas.core.frame.DataFrame'>\n",
      "RangeIndex: 1000 entries, 0 to 999\n",
      "Data columns (total 2 columns):\n",
      " #   Column  Non-Null Count  Dtype \n",
      "---  ------  --------------  ----- \n",
      " 0   Review  1000 non-null   object\n",
      " 1   Liked   1000 non-null   int64 \n",
      "dtypes: int64(1), object(1)\n",
      "memory usage: 15.8+ KB\n"
     ]
    }
   ],
   "source": [
    "df.info()"
   ]
  },
  {
   "cell_type": "markdown",
   "id": "50bf18c1",
   "metadata": {},
   "source": [
    "### Explore data"
   ]
  },
  {
   "cell_type": "code",
   "execution_count": 5,
   "id": "bea47d09",
   "metadata": {},
   "outputs": [
    {
     "data": {
      "text/plain": [
       "1    0.5\n",
       "0    0.5\n",
       "Name: Liked, dtype: float64"
      ]
     },
     "execution_count": 5,
     "metadata": {},
     "output_type": "execute_result"
    }
   ],
   "source": [
    "# compare between positive and negative\n",
    "df.Liked.value_counts(normalize=True)"
   ]
  },
  {
   "cell_type": "code",
   "execution_count": 6,
   "id": "f4dcd9e9",
   "metadata": {},
   "outputs": [
    {
     "data": {
      "text/plain": [
       "<AxesSubplot:xlabel='Liked', ylabel='count'>"
      ]
     },
     "execution_count": 6,
     "metadata": {},
     "output_type": "execute_result"
    },
    {
     "data": {
      "image/png": "[encoded data removed]",
      "text/plain": [
       "<Figure size 432x288 with 1 Axes>"
      ]
     },
     "metadata": {
      "needs_background": "light"
     },
     "output_type": "display_data"
    }
   ],
   "source": [
    "sns.countplot(data=df,x='Liked')"
   ]
  },
  {
   "cell_type": "markdown",
   "id": "2329ddd2",
   "metadata": {},
   "source": [
    "0 ==> negative <br>\n",
    "1 ==> positive"
   ]
  },
  {
   "cell_type": "markdown",
   "id": "89fa880d",
   "metadata": {},
   "source": [
    "we show the dataset is balanced"
   ]
  },
  {
   "cell_type": "code",
   "execution_count": 7,
   "id": "14987530",
   "metadata": {},
   "outputs": [],
   "source": [
    "df['Count Letter']=df['Review'].apply(len)"
   ]
  },
  {
   "cell_type": "code",
   "execution_count": 8,
   "id": "5717420f",
   "metadata": {},
   "outputs": [
    {
     "data": {
      "text/plain": [
       "149"
      ]
     },
     "execution_count": 8,
     "metadata": {},
     "output_type": "execute_result"
    }
   ],
   "source": [
    "df['Count Letter'].max()"
   ]
  },
  {
   "cell_type": "code",
   "execution_count": 9,
   "id": "88d70ed1",
   "metadata": {},
   "outputs": [
    {
     "data": {
      "text/plain": [
       "985"
      ]
     },
     "execution_count": 9,
     "metadata": {},
     "output_type": "execute_result"
    }
   ],
   "source": [
    "# location id of max count letter\n",
    "df['Count Letter'].argmax()"
   ]
  },
  {
   "cell_type": "code",
   "execution_count": 10,
   "id": "eca293a5",
   "metadata": {},
   "outputs": [
    {
     "data": {
      "text/plain": [
       "Review          The problem I have is that they charge $11.99 ...\n",
       "Liked                                                           0\n",
       "Count Letter                                                  149\n",
       "Name: 985, dtype: object"
      ]
     },
     "execution_count": 10,
     "metadata": {},
     "output_type": "execute_result"
    }
   ],
   "source": [
    "df.iloc[df['Count Letter'].argmax()]"
   ]
  },
  {
   "cell_type": "code",
   "execution_count": 11,
   "id": "8b9649a3",
   "metadata": {},
   "outputs": [
    {
     "data": {
      "text/plain": [
       "'The problem I have is that they charge $11.99 for a sandwich that is no bigger than a Subway sub (which offers better and more amount of vegetables).'"
      ]
     },
     "execution_count": 11,
     "metadata": {},
     "output_type": "execute_result"
    }
   ],
   "source": [
    "df.iloc[df['Count Letter'].argmax()]['Review']"
   ]
  },
  {
   "cell_type": "markdown",
   "id": "e7bcc23b",
   "metadata": {},
   "source": [
    "### preprocessing text (Nltk / Spacy) "
   ]
  },
  {
   "cell_type": "code",
   "execution_count": 12,
   "id": "41971112",
   "metadata": {},
   "outputs": [],
   "source": [
    "s=df['Review'][0]"
   ]
  },
  {
   "cell_type": "code",
   "execution_count": 13,
   "id": "e2e1e4ad",
   "metadata": {},
   "outputs": [
    {
     "data": {
      "text/plain": [
       "'Wow... Loved this place.'"
      ]
     },
     "execution_count": 13,
     "metadata": {},
     "output_type": "execute_result"
    }
   ],
   "source": [
    "s"
   ]
  },
  {
   "cell_type": "code",
   "execution_count": 40,
   "id": "8c4a9551",
   "metadata": {},
   "outputs": [
    {
     "data": {
      "text/plain": [
       "'wow loved this place'"
      ]
     },
     "execution_count": 40,
     "metadata": {},
     "output_type": "execute_result"
    }
   ],
   "source": [
    "import re\n",
    "new_str=re.sub(r'[^a-zA-Z\\s]','',s.lower())\n",
    "new_str"
   ]
  },
  {
   "cell_type": "code",
   "execution_count": 15,
   "id": "27c77ffe",
   "metadata": {},
   "outputs": [
    {
     "name": "stderr",
     "output_type": "stream",
     "text": [
      "[nltk_data] Downloading package stopwords to\n",
      "[nltk_data]     C:\\Users\\engah\\AppData\\Roaming\\nltk_data...\n",
      "[nltk_data]   Package stopwords is already up-to-date!\n"
     ]
    },
    {
     "data": {
      "text/plain": [
       "True"
      ]
     },
     "execution_count": 15,
     "metadata": {},
     "output_type": "execute_result"
    }
   ],
   "source": [
    "import nltk\n",
    "nltk.download(\"stopwords\")"
   ]
  },
  {
   "cell_type": "code",
   "execution_count": 16,
   "id": "cab7d4a4",
   "metadata": {},
   "outputs": [],
   "source": [
    "from nltk.corpus import stopwords\n",
    "stop_words=stopwords.words(\"english\")"
   ]
  },
  {
   "cell_type": "code",
   "execution_count": 17,
   "id": "567cfe1a",
   "metadata": {},
   "outputs": [
    {
     "name": "stdout",
     "output_type": "stream",
     "text": [
      "['i', 'me', 'my', 'myself', 'we', 'our', 'ours', 'ourselves', 'you', \"you're\", \"you've\", \"you'll\", \"you'd\", 'your', 'yours', 'yourself', 'yourselves', 'he', 'him', 'his', 'himself', 'she', \"she's\", 'her', 'hers', 'herself', 'it', \"it's\", 'its', 'itself', 'they', 'them', 'their', 'theirs', 'themselves', 'what', 'which', 'who', 'whom', 'this', 'that', \"that'll\", 'these', 'those', 'am', 'is', 'are', 'was', 'were', 'be', 'been', 'being', 'have', 'has', 'had', 'having', 'do', 'does', 'did', 'doing', 'a', 'an', 'the', 'and', 'but', 'if', 'or', 'because', 'as', 'until', 'while', 'of', 'at', 'by', 'for', 'with', 'about', 'against', 'between', 'into', 'through', 'during', 'before', 'after', 'above', 'below', 'to', 'from', 'up', 'down', 'in', 'out', 'on', 'off', 'over', 'under', 'again', 'further', 'then', 'once', 'here', 'there', 'when', 'where', 'why', 'how', 'all', 'any', 'both', 'each', 'few', 'more', 'most', 'other', 'some', 'such', 'no', 'nor', 'not', 'only', 'own', 'same', 'so', 'than', 'too', 'very', 's', 't', 'can', 'will', 'just', 'don', \"don't\", 'should', \"should've\", 'now', 'd', 'll', 'm', 'o', 're', 've', 'y', 'ain', 'aren', \"aren't\", 'couldn', \"couldn't\", 'didn', \"didn't\", 'doesn', \"doesn't\", 'hadn', \"hadn't\", 'hasn', \"hasn't\", 'haven', \"haven't\", 'isn', \"isn't\", 'ma', 'mightn', \"mightn't\", 'mustn', \"mustn't\", 'needn', \"needn't\", 'shan', \"shan't\", 'shouldn', \"shouldn't\", 'wasn', \"wasn't\", 'weren', \"weren't\", 'won', \"won't\", 'wouldn', \"wouldn't\"]\n"
     ]
    }
   ],
   "source": [
    "print(stop_words)"
   ]
  },
  {
   "cell_type": "code",
   "execution_count": 18,
   "id": "2b17da07",
   "metadata": {},
   "outputs": [
    {
     "data": {
      "text/plain": [
       "['wow', 'loved', 'this', 'place']"
      ]
     },
     "execution_count": 18,
     "metadata": {},
     "output_type": "execute_result"
    }
   ],
   "source": [
    "# tokenization\n",
    "from nltk.tokenize import word_tokenize\n",
    "words=word_tokenize(new_str)\n",
    "words"
   ]
  },
  {
   "cell_type": "markdown",
   "id": "0caa6b10",
   "metadata": {},
   "source": [
    "we decide to remove word (not) from stop words because it has mean in sentiment anlysis"
   ]
  },
  {
   "cell_type": "code",
   "execution_count": 19,
   "id": "69939e20",
   "metadata": {},
   "outputs": [],
   "source": [
    "stop_words.remove(\"not\")"
   ]
  },
  {
   "cell_type": "code",
   "execution_count": 20,
   "id": "e09057e8",
   "metadata": {},
   "outputs": [
    {
     "name": "stdout",
     "output_type": "stream",
     "text": [
      "['i', 'me', 'my', 'myself', 'we', 'our', 'ours', 'ourselves', 'you', \"you're\", \"you've\", \"you'll\", \"you'd\", 'your', 'yours', 'yourself', 'yourselves', 'he', 'him', 'his', 'himself', 'she', \"she's\", 'her', 'hers', 'herself', 'it', \"it's\", 'its', 'itself', 'they', 'them', 'their', 'theirs', 'themselves', 'what', 'which', 'who', 'whom', 'this', 'that', \"that'll\", 'these', 'those', 'am', 'is', 'are', 'was', 'were', 'be', 'been', 'being', 'have', 'has', 'had', 'having', 'do', 'does', 'did', 'doing', 'a', 'an', 'the', 'and', 'but', 'if', 'or', 'because', 'as', 'until', 'while', 'of', 'at', 'by', 'for', 'with', 'about', 'against', 'between', 'into', 'through', 'during', 'before', 'after', 'above', 'below', 'to', 'from', 'up', 'down', 'in', 'out', 'on', 'off', 'over', 'under', 'again', 'further', 'then', 'once', 'here', 'there', 'when', 'where', 'why', 'how', 'all', 'any', 'both', 'each', 'few', 'more', 'most', 'other', 'some', 'such', 'no', 'nor', 'only', 'own', 'same', 'so', 'than', 'too', 'very', 's', 't', 'can', 'will', 'just', 'don', \"don't\", 'should', \"should've\", 'now', 'd', 'll', 'm', 'o', 're', 've', 'y', 'ain', 'aren', \"aren't\", 'couldn', \"couldn't\", 'didn', \"didn't\", 'doesn', \"doesn't\", 'hadn', \"hadn't\", 'hasn', \"hasn't\", 'haven', \"haven't\", 'isn', \"isn't\", 'ma', 'mightn', \"mightn't\", 'mustn', \"mustn't\", 'needn', \"needn't\", 'shan', \"shan't\", 'shouldn', \"shouldn't\", 'wasn', \"wasn't\", 'weren', \"weren't\", 'won', \"won't\", 'wouldn', \"wouldn't\"]\n"
     ]
    }
   ],
   "source": [
    "print(stop_words)"
   ]
  },
  {
   "cell_type": "code",
   "execution_count": 21,
   "id": "f2dc1087",
   "metadata": {},
   "outputs": [],
   "source": [
    "filter_word=[w for w in words if w not in stop_words]"
   ]
  },
  {
   "cell_type": "code",
   "execution_count": 22,
   "id": "df04c91e",
   "metadata": {},
   "outputs": [
    {
     "name": "stdout",
     "output_type": "stream",
     "text": [
      "['wow', 'loved', 'this', 'place']\n",
      "['wow', 'loved', 'place']\n"
     ]
    }
   ],
   "source": [
    "print(words)\n",
    "print(filter_word)"
   ]
  },
  {
   "cell_type": "markdown",
   "id": "3911c3f2",
   "metadata": {},
   "source": [
    "lemm and stemm for words"
   ]
  },
  {
   "cell_type": "code",
   "execution_count": 23,
   "id": "1b728a38",
   "metadata": {},
   "outputs": [],
   "source": [
    "from nltk.stem import PorterStemmer,WordNetLemmatizer,LancasterStemmer"
   ]
  },
  {
   "cell_type": "code",
   "execution_count": 24,
   "id": "d19b058e",
   "metadata": {},
   "outputs": [],
   "source": [
    "ps=PorterStemmer()\n",
    "wl=WordNetLemmatizer()"
   ]
  },
  {
   "cell_type": "code",
   "execution_count": 25,
   "id": "476f916f",
   "metadata": {},
   "outputs": [
    {
     "data": {
      "text/plain": [
       "'wow loved place'"
      ]
     },
     "execution_count": 25,
     "metadata": {},
     "output_type": "execute_result"
    }
   ],
   "source": [
    "word=\" \".join(filter_word)\n",
    "word"
   ]
  },
  {
   "cell_type": "code",
   "execution_count": 26,
   "id": "87eccca9",
   "metadata": {},
   "outputs": [
    {
     "data": {
      "text/plain": [
       "'wow loved plac'"
      ]
     },
     "execution_count": 26,
     "metadata": {},
     "output_type": "execute_result"
    }
   ],
   "source": [
    "ps.stem(word)"
   ]
  },
  {
   "cell_type": "code",
   "execution_count": 27,
   "id": "06d24853",
   "metadata": {},
   "outputs": [
    {
     "data": {
      "text/plain": [
       "'wow loved place'"
      ]
     },
     "execution_count": 27,
     "metadata": {},
     "output_type": "execute_result"
    }
   ],
   "source": [
    "wl.lemmatize(word)"
   ]
  },
  {
   "cell_type": "code",
   "execution_count": 28,
   "id": "6e325e57",
   "metadata": {},
   "outputs": [
    {
     "data": {
      "text/plain": [
       "'wow loved place'"
      ]
     },
     "execution_count": 28,
     "metadata": {},
     "output_type": "execute_result"
    }
   ],
   "source": [
    "LancasterStemmer().stem(word)"
   ]
  },
  {
   "cell_type": "code",
   "execution_count": 29,
   "id": "b3feedec",
   "metadata": {},
   "outputs": [],
   "source": [
    "import spacy\n",
    "nlp=spacy.load(\"en_core_web_sm\")"
   ]
  },
  {
   "cell_type": "code",
   "execution_count": 30,
   "id": "2103185d",
   "metadata": {},
   "outputs": [
    {
     "name": "stdout",
     "output_type": "stream",
     "text": [
      "wow        wow\n",
      "loved      loved\n",
      "place      place\n"
     ]
    }
   ],
   "source": [
    "for w in nlp(word):\n",
    "    print(f\"{w.text:{10}} {w.lemma_}\")"
   ]
  },
  {
   "cell_type": "code",
   "execution_count": 41,
   "id": "359ed47b",
   "metadata": {},
   "outputs": [],
   "source": [
    "def process_text(s):\n",
    "    new_str=re.sub(r'[^a-zA-Z\\s]','',s.lower())\n",
    "    words=word_tokenize(new_str)\n",
    "    ps=PorterStemmer()\n",
    "    filter_word=[ps.stem(w) for w in words if w not in stop_words]\n",
    "    sent=\" \".join(filter_word)\n",
    "    return sent"
   ]
  },
  {
   "cell_type": "code",
   "execution_count": 42,
   "id": "a461689f",
   "metadata": {},
   "outputs": [
    {
     "name": "stdout",
     "output_type": "stream",
     "text": [
      "not tasti textur nasti\n"
     ]
    }
   ],
   "source": [
    "print(process_text(df['Review'][2]))"
   ]
  },
  {
   "cell_type": "code",
   "execution_count": 43,
   "id": "1d132395",
   "metadata": {},
   "outputs": [
    {
     "data": {
      "text/plain": [
       "'Not tasty and the texture was just nasty.'"
      ]
     },
     "execution_count": 43,
     "metadata": {},
     "output_type": "execute_result"
    }
   ],
   "source": [
    "df.iloc[2,0]"
   ]
  },
  {
   "cell_type": "code",
   "execution_count": 44,
   "id": "5260add1",
   "metadata": {},
   "outputs": [],
   "source": [
    "df['Review_cleaning']=df['Review'].apply(process_text)"
   ]
  },
  {
   "cell_type": "code",
   "execution_count": 45,
   "id": "fa0241c8",
   "metadata": {},
   "outputs": [
    {
     "data": {
      "text/html": [
       "<div>\n",
       "<style scoped>\n",
       "    .dataframe tbody tr th:only-of-type {\n",
       "        vertical-align: middle;\n",
       "    }\n",
       "\n",
       "    .dataframe tbody tr th {\n",
       "        vertical-align: top;\n",
       "    }\n",
       "\n",
       "    .dataframe thead th {\n",
       "        text-align: right;\n",
       "    }\n",
       "</style>\n",
       "<table border=\"1\" class=\"dataframe\">\n",
       "  <thead>\n",
       "    <tr style=\"text-align: right;\">\n",
       "      <th></th>\n",
       "      <th>Review</th>\n",
       "      <th>Liked</th>\n",
       "      <th>Count Letter</th>\n",
       "      <th>Review_cleaning</th>\n",
       "    </tr>\n",
       "  </thead>\n",
       "  <tbody>\n",
       "    <tr>\n",
       "      <th>0</th>\n",
       "      <td>Wow... Loved this place.</td>\n",
       "      <td>1</td>\n",
       "      <td>24</td>\n",
       "      <td>wow love place</td>\n",
       "    </tr>\n",
       "    <tr>\n",
       "      <th>1</th>\n",
       "      <td>Crust is not good.</td>\n",
       "      <td>0</td>\n",
       "      <td>18</td>\n",
       "      <td>crust not good</td>\n",
       "    </tr>\n",
       "    <tr>\n",
       "      <th>2</th>\n",
       "      <td>Not tasty and the texture was just nasty.</td>\n",
       "      <td>0</td>\n",
       "      <td>41</td>\n",
       "      <td>not tasti textur nasti</td>\n",
       "    </tr>\n",
       "    <tr>\n",
       "      <th>3</th>\n",
       "      <td>Stopped by during the late May bank holiday of...</td>\n",
       "      <td>1</td>\n",
       "      <td>87</td>\n",
       "      <td>stop late may bank holiday rick steve recommen...</td>\n",
       "    </tr>\n",
       "    <tr>\n",
       "      <th>4</th>\n",
       "      <td>The selection on the menu was great and so wer...</td>\n",
       "      <td>1</td>\n",
       "      <td>59</td>\n",
       "      <td>select menu great price</td>\n",
       "    </tr>\n",
       "  </tbody>\n",
       "</table>\n",
       "</div>"
      ],
      "text/plain": [
       "                                              Review  Liked  Count Letter  \\\n",
       "0                           Wow... Loved this place.      1            24   \n",
       "1                                 Crust is not good.      0            18   \n",
       "2          Not tasty and the texture was just nasty.      0            41   \n",
       "3  Stopped by during the late May bank holiday of...      1            87   \n",
       "4  The selection on the menu was great and so wer...      1            59   \n",
       "\n",
       "                                     Review_cleaning  \n",
       "0                                     wow love place  \n",
       "1                                     crust not good  \n",
       "2                             not tasti textur nasti  \n",
       "3  stop late may bank holiday rick steve recommen...  \n",
       "4                            select menu great price  "
      ]
     },
     "execution_count": 45,
     "metadata": {},
     "output_type": "execute_result"
    }
   ],
   "source": [
    "df.head()"
   ]
  },
  {
   "cell_type": "markdown",
   "id": "9d0e3f3f",
   "metadata": {},
   "source": [
    "### Vectorization"
   ]
  },
  {
   "cell_type": "code",
   "execution_count": 46,
   "id": "e79ce6c8",
   "metadata": {},
   "outputs": [],
   "source": [
    "from sklearn.feature_extraction.text import CountVectorizer"
   ]
  },
  {
   "cell_type": "code",
   "execution_count": 47,
   "id": "751e2506",
   "metadata": {},
   "outputs": [],
   "source": [
    "cv=CountVectorizer()\n",
    "X=cv.fit_transform(df['Review_cleaning']).toarray()"
   ]
  },
  {
   "cell_type": "code",
   "execution_count": 48,
   "id": "9360fb2c",
   "metadata": {},
   "outputs": [
    {
     "data": {
      "text/plain": [
       "(1000, 1609)"
      ]
     },
     "execution_count": 48,
     "metadata": {},
     "output_type": "execute_result"
    }
   ],
   "source": [
    "X.shape"
   ]
  },
  {
   "cell_type": "code",
   "execution_count": 49,
   "id": "e96372f2",
   "metadata": {},
   "outputs": [
    {
     "name": "stderr",
     "output_type": "stream",
     "text": [
      "C:\\Users\\engah\\AppData\\Local\\Programs\\Python\\Python39\\lib\\site-packages\\sklearn\\utils\\deprecation.py:87: FutureWarning: Function get_feature_names is deprecated; get_feature_names is deprecated in 1.0 and will be removed in 1.2. Please use get_feature_names_out instead.\n",
      "  warnings.warn(msg, category=FutureWarning)\n"
     ]
    },
    {
     "data": {
      "text/html": [
       "<div>\n",
       "<style scoped>\n",
       "    .dataframe tbody tr th:only-of-type {\n",
       "        vertical-align: middle;\n",
       "    }\n",
       "\n",
       "    .dataframe tbody tr th {\n",
       "        vertical-align: top;\n",
       "    }\n",
       "\n",
       "    .dataframe thead th {\n",
       "        text-align: right;\n",
       "    }\n",
       "</style>\n",
       "<table border=\"1\" class=\"dataframe\">\n",
       "  <thead>\n",
       "    <tr style=\"text-align: right;\">\n",
       "      <th></th>\n",
       "      <th>absolut</th>\n",
       "      <th>absolutley</th>\n",
       "      <th>accid</th>\n",
       "      <th>accommod</th>\n",
       "      <th>accomod</th>\n",
       "      <th>accordingli</th>\n",
       "      <th>account</th>\n",
       "      <th>ach</th>\n",
       "      <th>acknowledg</th>\n",
       "      <th>across</th>\n",
       "      <th>...</th>\n",
       "      <th>yelper</th>\n",
       "      <th>yet</th>\n",
       "      <th>youd</th>\n",
       "      <th>youll</th>\n",
       "      <th>your</th>\n",
       "      <th>yucki</th>\n",
       "      <th>yukon</th>\n",
       "      <th>yum</th>\n",
       "      <th>yummi</th>\n",
       "      <th>zero</th>\n",
       "    </tr>\n",
       "  </thead>\n",
       "  <tbody>\n",
       "    <tr>\n",
       "      <th>0</th>\n",
       "      <td>0</td>\n",
       "      <td>0</td>\n",
       "      <td>0</td>\n",
       "      <td>0</td>\n",
       "      <td>0</td>\n",
       "      <td>0</td>\n",
       "      <td>0</td>\n",
       "      <td>0</td>\n",
       "      <td>0</td>\n",
       "      <td>0</td>\n",
       "      <td>...</td>\n",
       "      <td>0</td>\n",
       "      <td>0</td>\n",
       "      <td>0</td>\n",
       "      <td>0</td>\n",
       "      <td>0</td>\n",
       "      <td>0</td>\n",
       "      <td>0</td>\n",
       "      <td>0</td>\n",
       "      <td>0</td>\n",
       "      <td>0</td>\n",
       "    </tr>\n",
       "    <tr>\n",
       "      <th>1</th>\n",
       "      <td>0</td>\n",
       "      <td>0</td>\n",
       "      <td>0</td>\n",
       "      <td>0</td>\n",
       "      <td>0</td>\n",
       "      <td>0</td>\n",
       "      <td>0</td>\n",
       "      <td>0</td>\n",
       "      <td>0</td>\n",
       "      <td>0</td>\n",
       "      <td>...</td>\n",
       "      <td>0</td>\n",
       "      <td>0</td>\n",
       "      <td>0</td>\n",
       "      <td>0</td>\n",
       "      <td>0</td>\n",
       "      <td>0</td>\n",
       "      <td>0</td>\n",
       "      <td>0</td>\n",
       "      <td>0</td>\n",
       "      <td>0</td>\n",
       "    </tr>\n",
       "    <tr>\n",
       "      <th>2</th>\n",
       "      <td>0</td>\n",
       "      <td>0</td>\n",
       "      <td>0</td>\n",
       "      <td>0</td>\n",
       "      <td>0</td>\n",
       "      <td>0</td>\n",
       "      <td>0</td>\n",
       "      <td>0</td>\n",
       "      <td>0</td>\n",
       "      <td>0</td>\n",
       "      <td>...</td>\n",
       "      <td>0</td>\n",
       "      <td>0</td>\n",
       "      <td>0</td>\n",
       "      <td>0</td>\n",
       "      <td>0</td>\n",
       "      <td>0</td>\n",
       "      <td>0</td>\n",
       "      <td>0</td>\n",
       "      <td>0</td>\n",
       "      <td>0</td>\n",
       "    </tr>\n",
       "    <tr>\n",
       "      <th>3</th>\n",
       "      <td>0</td>\n",
       "      <td>0</td>\n",
       "      <td>0</td>\n",
       "      <td>0</td>\n",
       "      <td>0</td>\n",
       "      <td>0</td>\n",
       "      <td>0</td>\n",
       "      <td>0</td>\n",
       "      <td>0</td>\n",
       "      <td>0</td>\n",
       "      <td>...</td>\n",
       "      <td>0</td>\n",
       "      <td>0</td>\n",
       "      <td>0</td>\n",
       "      <td>0</td>\n",
       "      <td>0</td>\n",
       "      <td>0</td>\n",
       "      <td>0</td>\n",
       "      <td>0</td>\n",
       "      <td>0</td>\n",
       "      <td>0</td>\n",
       "    </tr>\n",
       "    <tr>\n",
       "      <th>4</th>\n",
       "      <td>0</td>\n",
       "      <td>0</td>\n",
       "      <td>0</td>\n",
       "      <td>0</td>\n",
       "      <td>0</td>\n",
       "      <td>0</td>\n",
       "      <td>0</td>\n",
       "      <td>0</td>\n",
       "      <td>0</td>\n",
       "      <td>0</td>\n",
       "      <td>...</td>\n",
       "      <td>0</td>\n",
       "      <td>0</td>\n",
       "      <td>0</td>\n",
       "      <td>0</td>\n",
       "      <td>0</td>\n",
       "      <td>0</td>\n",
       "      <td>0</td>\n",
       "      <td>0</td>\n",
       "      <td>0</td>\n",
       "      <td>0</td>\n",
       "    </tr>\n",
       "    <tr>\n",
       "      <th>...</th>\n",
       "      <td>...</td>\n",
       "      <td>...</td>\n",
       "      <td>...</td>\n",
       "      <td>...</td>\n",
       "      <td>...</td>\n",
       "      <td>...</td>\n",
       "      <td>...</td>\n",
       "      <td>...</td>\n",
       "      <td>...</td>\n",
       "      <td>...</td>\n",
       "      <td>...</td>\n",
       "      <td>...</td>\n",
       "      <td>...</td>\n",
       "      <td>...</td>\n",
       "      <td>...</td>\n",
       "      <td>...</td>\n",
       "      <td>...</td>\n",
       "      <td>...</td>\n",
       "      <td>...</td>\n",
       "      <td>...</td>\n",
       "      <td>...</td>\n",
       "    </tr>\n",
       "    <tr>\n",
       "      <th>995</th>\n",
       "      <td>0</td>\n",
       "      <td>0</td>\n",
       "      <td>0</td>\n",
       "      <td>0</td>\n",
       "      <td>0</td>\n",
       "      <td>0</td>\n",
       "      <td>0</td>\n",
       "      <td>0</td>\n",
       "      <td>0</td>\n",
       "      <td>0</td>\n",
       "      <td>...</td>\n",
       "      <td>0</td>\n",
       "      <td>0</td>\n",
       "      <td>0</td>\n",
       "      <td>0</td>\n",
       "      <td>0</td>\n",
       "      <td>0</td>\n",
       "      <td>0</td>\n",
       "      <td>0</td>\n",
       "      <td>0</td>\n",
       "      <td>0</td>\n",
       "    </tr>\n",
       "    <tr>\n",
       "      <th>996</th>\n",
       "      <td>0</td>\n",
       "      <td>0</td>\n",
       "      <td>0</td>\n",
       "      <td>0</td>\n",
       "      <td>0</td>\n",
       "      <td>0</td>\n",
       "      <td>0</td>\n",
       "      <td>0</td>\n",
       "      <td>0</td>\n",
       "      <td>0</td>\n",
       "      <td>...</td>\n",
       "      <td>0</td>\n",
       "      <td>0</td>\n",
       "      <td>0</td>\n",
       "      <td>0</td>\n",
       "      <td>0</td>\n",
       "      <td>0</td>\n",
       "      <td>0</td>\n",
       "      <td>0</td>\n",
       "      <td>0</td>\n",
       "      <td>0</td>\n",
       "    </tr>\n",
       "    <tr>\n",
       "      <th>997</th>\n",
       "      <td>0</td>\n",
       "      <td>0</td>\n",
       "      <td>0</td>\n",
       "      <td>0</td>\n",
       "      <td>0</td>\n",
       "      <td>0</td>\n",
       "      <td>0</td>\n",
       "      <td>0</td>\n",
       "      <td>0</td>\n",
       "      <td>0</td>\n",
       "      <td>...</td>\n",
       "      <td>0</td>\n",
       "      <td>0</td>\n",
       "      <td>0</td>\n",
       "      <td>0</td>\n",
       "      <td>0</td>\n",
       "      <td>0</td>\n",
       "      <td>0</td>\n",
       "      <td>0</td>\n",
       "      <td>0</td>\n",
       "      <td>0</td>\n",
       "    </tr>\n",
       "    <tr>\n",
       "      <th>998</th>\n",
       "      <td>0</td>\n",
       "      <td>0</td>\n",
       "      <td>0</td>\n",
       "      <td>0</td>\n",
       "      <td>0</td>\n",
       "      <td>0</td>\n",
       "      <td>0</td>\n",
       "      <td>0</td>\n",
       "      <td>0</td>\n",
       "      <td>0</td>\n",
       "      <td>...</td>\n",
       "      <td>0</td>\n",
       "      <td>0</td>\n",
       "      <td>0</td>\n",
       "      <td>0</td>\n",
       "      <td>0</td>\n",
       "      <td>0</td>\n",
       "      <td>0</td>\n",
       "      <td>0</td>\n",
       "      <td>0</td>\n",
       "      <td>0</td>\n",
       "    </tr>\n",
       "    <tr>\n",
       "      <th>999</th>\n",
       "      <td>0</td>\n",
       "      <td>0</td>\n",
       "      <td>0</td>\n",
       "      <td>0</td>\n",
       "      <td>0</td>\n",
       "      <td>0</td>\n",
       "      <td>0</td>\n",
       "      <td>0</td>\n",
       "      <td>0</td>\n",
       "      <td>0</td>\n",
       "      <td>...</td>\n",
       "      <td>0</td>\n",
       "      <td>0</td>\n",
       "      <td>0</td>\n",
       "      <td>0</td>\n",
       "      <td>0</td>\n",
       "      <td>0</td>\n",
       "      <td>0</td>\n",
       "      <td>0</td>\n",
       "      <td>0</td>\n",
       "      <td>0</td>\n",
       "    </tr>\n",
       "  </tbody>\n",
       "</table>\n",
       "<p>1000 rows × 1609 columns</p>\n",
       "</div>"
      ],
      "text/plain": [
       "     absolut  absolutley  accid  accommod  accomod  accordingli  account  ach  \\\n",
       "0          0           0      0         0        0            0        0    0   \n",
       "1          0           0      0         0        0            0        0    0   \n",
       "2          0           0      0         0        0            0        0    0   \n",
       "3          0           0      0         0        0            0        0    0   \n",
       "4          0           0      0         0        0            0        0    0   \n",
       "..       ...         ...    ...       ...      ...          ...      ...  ...   \n",
       "995        0           0      0         0        0            0        0    0   \n",
       "996        0           0      0         0        0            0        0    0   \n",
       "997        0           0      0         0        0            0        0    0   \n",
       "998        0           0      0         0        0            0        0    0   \n",
       "999        0           0      0         0        0            0        0    0   \n",
       "\n",
       "     acknowledg  across  ...  yelper  yet  youd  youll  your  yucki  yukon  \\\n",
       "0             0       0  ...       0    0     0      0     0      0      0   \n",
       "1             0       0  ...       0    0     0      0     0      0      0   \n",
       "2             0       0  ...       0    0     0      0     0      0      0   \n",
       "3             0       0  ...       0    0     0      0     0      0      0   \n",
       "4             0       0  ...       0    0     0      0     0      0      0   \n",
       "..          ...     ...  ...     ...  ...   ...    ...   ...    ...    ...   \n",
       "995           0       0  ...       0    0     0      0     0      0      0   \n",
       "996           0       0  ...       0    0     0      0     0      0      0   \n",
       "997           0       0  ...       0    0     0      0     0      0      0   \n",
       "998           0       0  ...       0    0     0      0     0      0      0   \n",
       "999           0       0  ...       0    0     0      0     0      0      0   \n",
       "\n",
       "     yum  yummi  zero  \n",
       "0      0      0     0  \n",
       "1      0      0     0  \n",
       "2      0      0     0  \n",
       "3      0      0     0  \n",
       "4      0      0     0  \n",
       "..   ...    ...   ...  \n",
       "995    0      0     0  \n",
       "996    0      0     0  \n",
       "997    0      0     0  \n",
       "998    0      0     0  \n",
       "999    0      0     0  \n",
       "\n",
       "[1000 rows x 1609 columns]"
      ]
     },
     "execution_count": 49,
     "metadata": {},
     "output_type": "execute_result"
    }
   ],
   "source": [
    "df_new=pd.DataFrame(X,columns=cv.get_feature_names())\n",
    "df_new"
   ]
  },
  {
   "cell_type": "code",
   "execution_count": 51,
   "id": "dd153c4c",
   "metadata": {},
   "outputs": [],
   "source": [
    "y=df['Liked']"
   ]
  },
  {
   "cell_type": "code",
   "execution_count": 52,
   "id": "fb99fd10",
   "metadata": {},
   "outputs": [
    {
     "data": {
      "text/plain": [
       "((800, 1609), (200, 1609))"
      ]
     },
     "execution_count": 52,
     "metadata": {},
     "output_type": "execute_result"
    }
   ],
   "source": [
    "from sklearn.model_selection import train_test_split as tts\n",
    "x_train,x_test,y_train,y_test=tts(X,y,test_size=0.20,random_state=0)\n",
    "x_train.shape,x_test.shape"
   ]
  },
  {
   "cell_type": "code",
   "execution_count": 57,
   "id": "530dae55",
   "metadata": {},
   "outputs": [
    {
     "data": {
      "text/plain": [
       "(800,)"
      ]
     },
     "execution_count": 57,
     "metadata": {},
     "output_type": "execute_result"
    }
   ],
   "source": [
    "y_train.shape"
   ]
  },
  {
   "cell_type": "markdown",
   "id": "900e458a",
   "metadata": {},
   "source": [
    "### Model Building"
   ]
  },
  {
   "cell_type": "code",
   "execution_count": 53,
   "id": "99d0ecbc",
   "metadata": {},
   "outputs": [],
   "source": [
    "import tensorflow as tf\n",
    "from tensorflow import keras"
   ]
  },
  {
   "cell_type": "code",
   "execution_count": 60,
   "id": "56afdc38",
   "metadata": {},
   "outputs": [],
   "source": [
    "model=keras.Sequential([\n",
    "    keras.layers.Dense(512,input_dim=1609,activation=tf.nn.relu),\n",
    "    keras.layers.Dense(1,activation=tf.nn.sigmoid)\n",
    "])\n",
    "\n",
    "model.compile(optimizer='adam',loss=\"binary_crossentropy\",metrics=['accuracy'])"
   ]
  },
  {
   "cell_type": "code",
   "execution_count": 61,
   "id": "0a2fb266",
   "metadata": {},
   "outputs": [
    {
     "name": "stdout",
     "output_type": "stream",
     "text": [
      "Epoch 1/25\n",
      "25/25 - 1s - loss: 0.6626 - accuracy: 0.6775 - 883ms/epoch - 35ms/step\n",
      "Epoch 2/25\n",
      "25/25 - 0s - loss: 0.4869 - accuracy: 0.9150 - 134ms/epoch - 5ms/step\n",
      "Epoch 3/25\n",
      "25/25 - 0s - loss: 0.3130 - accuracy: 0.9613 - 134ms/epoch - 5ms/step\n",
      "Epoch 4/25\n",
      "25/25 - 0s - loss: 0.1879 - accuracy: 0.9688 - 136ms/epoch - 5ms/step\n",
      "Epoch 5/25\n",
      "25/25 - 0s - loss: 0.1169 - accuracy: 0.9850 - 135ms/epoch - 5ms/step\n",
      "Epoch 6/25\n",
      "25/25 - 0s - loss: 0.0769 - accuracy: 0.9912 - 138ms/epoch - 6ms/step\n",
      "Epoch 7/25\n",
      "25/25 - 0s - loss: 0.0554 - accuracy: 0.9925 - 137ms/epoch - 5ms/step\n",
      "Epoch 8/25\n",
      "25/25 - 0s - loss: 0.0419 - accuracy: 0.9975 - 136ms/epoch - 5ms/step\n",
      "Epoch 9/25\n",
      "25/25 - 0s - loss: 0.0337 - accuracy: 0.9975 - 136ms/epoch - 5ms/step\n",
      "Epoch 10/25\n",
      "25/25 - 0s - loss: 0.0280 - accuracy: 0.9975 - 139ms/epoch - 6ms/step\n",
      "Epoch 11/25\n",
      "25/25 - 0s - loss: 0.0236 - accuracy: 0.9962 - 135ms/epoch - 5ms/step\n",
      "Epoch 12/25\n",
      "25/25 - 0s - loss: 0.0200 - accuracy: 0.9975 - 134ms/epoch - 5ms/step\n",
      "Epoch 13/25\n",
      "25/25 - 0s - loss: 0.0175 - accuracy: 0.9962 - 138ms/epoch - 6ms/step\n",
      "Epoch 14/25\n",
      "25/25 - 0s - loss: 0.0153 - accuracy: 0.9975 - 138ms/epoch - 6ms/step\n",
      "Epoch 15/25\n",
      "25/25 - 0s - loss: 0.0138 - accuracy: 0.9975 - 138ms/epoch - 6ms/step\n",
      "Epoch 16/25\n",
      "25/25 - 0s - loss: 0.0127 - accuracy: 0.9962 - 135ms/epoch - 5ms/step\n",
      "Epoch 17/25\n",
      "25/25 - 0s - loss: 0.0114 - accuracy: 0.9975 - 137ms/epoch - 5ms/step\n",
      "Epoch 18/25\n",
      "25/25 - 0s - loss: 0.0103 - accuracy: 0.9987 - 138ms/epoch - 6ms/step\n",
      "Epoch 19/25\n",
      "25/25 - 0s - loss: 0.0096 - accuracy: 0.9987 - 146ms/epoch - 6ms/step\n",
      "Epoch 20/25\n",
      "25/25 - 0s - loss: 0.0088 - accuracy: 0.9987 - 136ms/epoch - 5ms/step\n",
      "Epoch 21/25\n",
      "25/25 - 0s - loss: 0.0079 - accuracy: 1.0000 - 144ms/epoch - 6ms/step\n",
      "Epoch 22/25\n",
      "25/25 - 0s - loss: 0.0075 - accuracy: 1.0000 - 153ms/epoch - 6ms/step\n",
      "Epoch 23/25\n",
      "25/25 - 0s - loss: 0.0071 - accuracy: 1.0000 - 173ms/epoch - 7ms/step\n",
      "Epoch 24/25\n",
      "25/25 - 0s - loss: 0.0067 - accuracy: 1.0000 - 163ms/epoch - 7ms/step\n",
      "Epoch 25/25\n",
      "25/25 - 0s - loss: 0.0062 - accuracy: 1.0000 - 158ms/epoch - 6ms/step\n"
     ]
    },
    {
     "data": {
      "text/plain": [
       "<keras.callbacks.History at 0x1c6e0f660a0>"
      ]
     },
     "execution_count": 61,
     "metadata": {},
     "output_type": "execute_result"
    }
   ],
   "source": [
    "model.fit(x_train,y_train,epochs=25,verbose=2)"
   ]
  },
  {
   "cell_type": "code",
   "execution_count": 62,
   "id": "e0f46056",
   "metadata": {},
   "outputs": [
    {
     "name": "stdout",
     "output_type": "stream",
     "text": [
      "7/7 [==============================] - 1s 7ms/step - loss: 0.5215 - accuracy: 0.8500\n"
     ]
    },
    {
     "data": {
      "text/plain": [
       "[0.5214968323707581, 0.8500000238418579]"
      ]
     },
     "execution_count": 62,
     "metadata": {},
     "output_type": "execute_result"
    }
   ],
   "source": [
    "model.evaluate(x_test,y_test)"
   ]
  },
  {
   "cell_type": "code",
   "execution_count": 64,
   "id": "546b909c",
   "metadata": {},
   "outputs": [
    {
     "name": "stdout",
     "output_type": "stream",
     "text": [
      "7/7 [==============================] - 0s 3ms/step\n"
     ]
    }
   ],
   "source": [
    "prediction=model.predict(x_test)"
   ]
  },
  {
   "cell_type": "code",
   "execution_count": 65,
   "id": "34a50286",
   "metadata": {},
   "outputs": [
    {
     "data": {
      "text/plain": [
       "array([0.00465754], dtype=float32)"
      ]
     },
     "execution_count": 65,
     "metadata": {},
     "output_type": "execute_result"
    }
   ],
   "source": [
    "prediction[0]"
   ]
  },
  {
   "cell_type": "code",
   "execution_count": 69,
   "id": "7b833bb0",
   "metadata": {},
   "outputs": [
    {
     "data": {
      "text/plain": [
       "0"
      ]
     },
     "execution_count": 69,
     "metadata": {},
     "output_type": "execute_result"
    }
   ],
   "source": [
    "y_test.iloc[0]"
   ]
  },
  {
   "cell_type": "code",
   "execution_count": 70,
   "id": "877fa364",
   "metadata": {},
   "outputs": [
    {
     "data": {
      "text/plain": [
       "(array([0.00099977], dtype=float32), 0)"
      ]
     },
     "execution_count": 70,
     "metadata": {},
     "output_type": "execute_result"
    }
   ],
   "source": [
    "prediction[1],y_test.iloc[1]"
   ]
  },
  {
   "cell_type": "code",
   "execution_count": 71,
   "id": "8ce1e915",
   "metadata": {},
   "outputs": [
    {
     "data": {
      "text/plain": [
       "array([[0.],\n",
       "       [0.],\n",
       "       [0.],\n",
       "       [0.],\n",
       "       [0.],\n",
       "       [0.],\n",
       "       [1.],\n",
       "       [0.],\n",
       "       [0.],\n",
       "       [1.],\n",
       "       [1.],\n",
       "       [1.],\n",
       "       [1.],\n",
       "       [1.],\n",
       "       [1.],\n",
       "       [1.],\n",
       "       [0.],\n",
       "       [0.],\n",
       "       [0.],\n",
       "       [1.],\n",
       "       [0.],\n",
       "       [0.],\n",
       "       [1.],\n",
       "       [1.],\n",
       "       [1.],\n",
       "       [1.],\n",
       "       [1.],\n",
       "       [1.],\n",
       "       [1.],\n",
       "       [0.],\n",
       "       [1.],\n",
       "       [1.],\n",
       "       [1.],\n",
       "       [1.],\n",
       "       [1.],\n",
       "       [0.],\n",
       "       [0.],\n",
       "       [0.],\n",
       "       [0.],\n",
       "       [1.],\n",
       "       [1.],\n",
       "       [1.],\n",
       "       [1.],\n",
       "       [0.],\n",
       "       [0.],\n",
       "       [0.],\n",
       "       [1.],\n",
       "       [0.],\n",
       "       [0.],\n",
       "       [0.],\n",
       "       [1.],\n",
       "       [1.],\n",
       "       [1.],\n",
       "       [1.],\n",
       "       [0.],\n",
       "       [0.],\n",
       "       [1.],\n",
       "       [1.],\n",
       "       [0.],\n",
       "       [1.],\n",
       "       [1.],\n",
       "       [0.],\n",
       "       [0.],\n",
       "       [1.],\n",
       "       [1.],\n",
       "       [0.],\n",
       "       [1.],\n",
       "       [1.],\n",
       "       [1.],\n",
       "       [0.],\n",
       "       [1.],\n",
       "       [1.],\n",
       "       [1.],\n",
       "       [1.],\n",
       "       [0.],\n",
       "       [0.],\n",
       "       [1.],\n",
       "       [1.],\n",
       "       [0.],\n",
       "       [1.],\n",
       "       [0.],\n",
       "       [1.],\n",
       "       [1.],\n",
       "       [0.],\n",
       "       [1.],\n",
       "       [1.],\n",
       "       [0.],\n",
       "       [0.],\n",
       "       [1.],\n",
       "       [1.],\n",
       "       [0.],\n",
       "       [1.],\n",
       "       [0.],\n",
       "       [0.],\n",
       "       [0.],\n",
       "       [0.],\n",
       "       [1.],\n",
       "       [1.],\n",
       "       [1.],\n",
       "       [1.],\n",
       "       [0.],\n",
       "       [1.],\n",
       "       [1.],\n",
       "       [1.],\n",
       "       [0.],\n",
       "       [0.],\n",
       "       [1.],\n",
       "       [1.],\n",
       "       [0.],\n",
       "       [0.],\n",
       "       [0.],\n",
       "       [1.],\n",
       "       [0.],\n",
       "       [1.],\n",
       "       [1.],\n",
       "       [0.],\n",
       "       [1.],\n",
       "       [1.],\n",
       "       [1.],\n",
       "       [1.],\n",
       "       [1.],\n",
       "       [0.],\n",
       "       [1.],\n",
       "       [0.],\n",
       "       [0.],\n",
       "       [0.],\n",
       "       [1.],\n",
       "       [0.],\n",
       "       [0.],\n",
       "       [0.],\n",
       "       [1.],\n",
       "       [1.],\n",
       "       [0.],\n",
       "       [0.],\n",
       "       [1.],\n",
       "       [1.],\n",
       "       [1.],\n",
       "       [1.],\n",
       "       [1.],\n",
       "       [0.],\n",
       "       [0.],\n",
       "       [1.],\n",
       "       [1.],\n",
       "       [0.],\n",
       "       [0.],\n",
       "       [0.],\n",
       "       [0.],\n",
       "       [0.],\n",
       "       [1.],\n",
       "       [1.],\n",
       "       [1.],\n",
       "       [1.],\n",
       "       [1.],\n",
       "       [1.],\n",
       "       [1.],\n",
       "       [0.],\n",
       "       [1.],\n",
       "       [1.],\n",
       "       [1.],\n",
       "       [0.],\n",
       "       [0.],\n",
       "       [0.],\n",
       "       [1.],\n",
       "       [1.],\n",
       "       [1.],\n",
       "       [0.],\n",
       "       [1.],\n",
       "       [0.],\n",
       "       [0.],\n",
       "       [0.],\n",
       "       [0.],\n",
       "       [1.],\n",
       "       [1.],\n",
       "       [0.],\n",
       "       [0.],\n",
       "       [0.],\n",
       "       [0.],\n",
       "       [1.],\n",
       "       [0.],\n",
       "       [0.],\n",
       "       [1.],\n",
       "       [1.],\n",
       "       [0.],\n",
       "       [0.],\n",
       "       [0.],\n",
       "       [1.],\n",
       "       [0.],\n",
       "       [1.],\n",
       "       [0.],\n",
       "       [1.],\n",
       "       [1.],\n",
       "       [0.],\n",
       "       [1.],\n",
       "       [0.],\n",
       "       [1.],\n",
       "       [0.],\n",
       "       [1.],\n",
       "       [1.],\n",
       "       [0.],\n",
       "       [1.]], dtype=float32)"
      ]
     },
     "execution_count": 71,
     "metadata": {},
     "output_type": "execute_result"
    }
   ],
   "source": [
    "for i in range(len(prediction)):\n",
    "    if prediction[i] < 0.5:\n",
    "        prediction[i]=0\n",
    "    else:\n",
    "        prediction[i]=1\n",
    "prediction"
   ]
  },
  {
   "cell_type": "code",
   "execution_count": 77,
   "id": "4ff57728",
   "metadata": {},
   "outputs": [],
   "source": [
    "prediction=prediction.reshape((200,))"
   ]
  },
  {
   "cell_type": "code",
   "execution_count": 81,
   "id": "6cd934b3",
   "metadata": {},
   "outputs": [
    {
     "data": {
      "text/plain": [
       "((200,), (200,))"
      ]
     },
     "execution_count": 81,
     "metadata": {},
     "output_type": "execute_result"
    }
   ],
   "source": [
    "prediction.shape,y_test.shape"
   ]
  },
  {
   "cell_type": "code",
   "execution_count": 85,
   "id": "283af631",
   "metadata": {},
   "outputs": [],
   "source": [
    "from sklearn.metrics import confusion_matrix,f1_score,classification_report"
   ]
  },
  {
   "cell_type": "code",
   "execution_count": 82,
   "id": "ce309c96",
   "metadata": {},
   "outputs": [
    {
     "data": {
      "text/plain": [
       "array([[79, 12],\n",
       "       [18, 91]], dtype=int64)"
      ]
     },
     "execution_count": 82,
     "metadata": {},
     "output_type": "execute_result"
    }
   ],
   "source": [
    "confusion_matrix(prediction,y_test)"
   ]
  },
  {
   "cell_type": "code",
   "execution_count": 84,
   "id": "537f34d5",
   "metadata": {},
   "outputs": [
    {
     "data": {
      "text/plain": [
       "0.8584905660377358"
      ]
     },
     "execution_count": 84,
     "metadata": {},
     "output_type": "execute_result"
    }
   ],
   "source": [
    "f1_score(prediction,y_test)"
   ]
  },
  {
   "cell_type": "code",
   "execution_count": 87,
   "id": "f778f92d",
   "metadata": {},
   "outputs": [
    {
     "name": "stdout",
     "output_type": "stream",
     "text": [
      "              precision    recall  f1-score   support\n",
      "\n",
      "         0.0       0.81      0.87      0.84        91\n",
      "         1.0       0.88      0.83      0.86       109\n",
      "\n",
      "    accuracy                           0.85       200\n",
      "   macro avg       0.85      0.85      0.85       200\n",
      "weighted avg       0.85      0.85      0.85       200\n",
      "\n"
     ]
    }
   ],
   "source": [
    "print(classification_report(prediction,y_test))"
   ]
  },
  {
   "cell_type": "markdown",
   "id": "4cefb012",
   "metadata": {},
   "source": [
    "### Model Deployment"
   ]
  },
  {
   "cell_type": "code",
   "execution_count": 88,
   "id": "f952a543",
   "metadata": {},
   "outputs": [],
   "source": [
    "import joblib"
   ]
  },
  {
   "cell_type": "code",
   "execution_count": 89,
   "id": "14dd2b34",
   "metadata": {},
   "outputs": [
    {
     "name": "stdout",
     "output_type": "stream",
     "text": [
      "INFO:tensorflow:Assets written to: ram://dd3afd06-cf89-4338-8347-ca023c4b79f9/assets\n"
     ]
    },
    {
     "data": {
      "text/plain": [
       "['restaurant.pkl']"
      ]
     },
     "execution_count": 89,
     "metadata": {},
     "output_type": "execute_result"
    }
   ],
   "source": [
    "joblib.dump(model,\"restaurant.pkl\")"
   ]
  },
  {
   "cell_type": "code",
   "execution_count": 94,
   "id": "2d392389",
   "metadata": {},
   "outputs": [],
   "source": [
    "model.save(\"model.h5\")"
   ]
  },
  {
   "cell_type": "code",
   "execution_count": 99,
   "id": "d569c5b9",
   "metadata": {},
   "outputs": [],
   "source": [
    "model_run=keras.models.load_model(\"model.h5\")"
   ]
  },
  {
   "cell_type": "code",
   "execution_count": 100,
   "id": "56a67310",
   "metadata": {},
   "outputs": [
    {
     "name": "stdout",
     "output_type": "stream",
     "text": [
      "7/7 [==============================] - 0s 3ms/step\n"
     ]
    },
    {
     "data": {
      "text/plain": [
       "array([[4.65754326e-03],\n",
       "       [9.99766984e-04],\n",
       "       [1.12467343e-02],\n",
       "       [1.09315501e-03],\n",
       "       [6.59601167e-02],\n",
       "       [1.73996940e-01],\n",
       "       [9.99998271e-01],\n",
       "       [7.59337991e-02],\n",
       "       [4.46314644e-03],\n",
       "       [9.98082340e-01],\n",
       "       [9.90418196e-01],\n",
       "       [9.99493957e-01],\n",
       "       [9.69727218e-01],\n",
       "       [9.99759316e-01],\n",
       "       [9.99127209e-01],\n",
       "       [9.99999225e-01],\n",
       "       [3.05010319e-01],\n",
       "       [1.31593886e-04],\n",
       "       [2.80934328e-04],\n",
       "       [9.99351978e-01],\n",
       "       [4.80429411e-01],\n",
       "       [1.18559422e-02],\n",
       "       [9.95367229e-01],\n",
       "       [7.81415164e-01],\n",
       "       [8.79130781e-01],\n",
       "       [9.12552416e-01],\n",
       "       [7.55154252e-01],\n",
       "       [9.99999642e-01],\n",
       "       [9.99995887e-01],\n",
       "       [2.52457242e-02],\n",
       "       [9.87505674e-01],\n",
       "       [9.47275102e-01],\n",
       "       [5.74959338e-01],\n",
       "       [8.05367053e-01],\n",
       "       [9.97542083e-01],\n",
       "       [1.13504000e-01],\n",
       "       [1.32558309e-02],\n",
       "       [3.26740921e-01],\n",
       "       [4.83632982e-02],\n",
       "       [9.99985158e-01],\n",
       "       [9.99486804e-01],\n",
       "       [9.20205891e-01],\n",
       "       [9.37631547e-01],\n",
       "       [1.84336137e-02],\n",
       "       [5.48761711e-03],\n",
       "       [1.35790833e-05],\n",
       "       [9.04870987e-01],\n",
       "       [2.32575759e-01],\n",
       "       [4.93816018e-01],\n",
       "       [5.24250965e-04],\n",
       "       [9.99969304e-01],\n",
       "       [9.82689142e-01],\n",
       "       [8.08530092e-01],\n",
       "       [9.99413669e-01],\n",
       "       [2.63487425e-04],\n",
       "       [6.73298864e-03],\n",
       "       [9.77173209e-01],\n",
       "       [7.90898621e-01],\n",
       "       [1.66263591e-04],\n",
       "       [9.46743727e-01],\n",
       "       [7.64204860e-01],\n",
       "       [1.15265939e-04],\n",
       "       [2.61204801e-02],\n",
       "       [9.67002392e-01],\n",
       "       [8.37733567e-01],\n",
       "       [1.06880190e-02],\n",
       "       [9.69193637e-01],\n",
       "       [7.16972113e-01],\n",
       "       [6.77982032e-01],\n",
       "       [3.80823314e-02],\n",
       "       [9.99933243e-01],\n",
       "       [9.98952568e-01],\n",
       "       [9.89079893e-01],\n",
       "       [7.71865606e-01],\n",
       "       [1.97484195e-02],\n",
       "       [1.44330412e-01],\n",
       "       [9.78193104e-01],\n",
       "       [9.46067870e-01],\n",
       "       [4.17759782e-09],\n",
       "       [9.94604111e-01],\n",
       "       [1.07128754e-01],\n",
       "       [9.99999344e-01],\n",
       "       [9.98456836e-01],\n",
       "       [3.46907787e-03],\n",
       "       [9.99929547e-01],\n",
       "       [9.99125421e-01],\n",
       "       [2.20293924e-03],\n",
       "       [3.75586092e-01],\n",
       "       [9.99926388e-01],\n",
       "       [9.44999039e-01],\n",
       "       [4.38961841e-04],\n",
       "       [9.98979211e-01],\n",
       "       [3.62816937e-02],\n",
       "       [7.50803447e-05],\n",
       "       [6.15707599e-03],\n",
       "       [1.61505099e-02],\n",
       "       [5.18161237e-01],\n",
       "       [8.08219671e-01],\n",
       "       [8.47272217e-01],\n",
       "       [6.82341933e-01],\n",
       "       [2.15964541e-02],\n",
       "       [9.89371479e-01],\n",
       "       [9.81608510e-01],\n",
       "       [9.94935751e-01],\n",
       "       [4.33297642e-02],\n",
       "       [2.73167402e-01],\n",
       "       [9.49344516e-01],\n",
       "       [9.99995768e-01],\n",
       "       [9.08419906e-07],\n",
       "       [2.04080209e-01],\n",
       "       [1.94270760e-04],\n",
       "       [9.82305110e-01],\n",
       "       [1.92902648e-04],\n",
       "       [9.85453486e-01],\n",
       "       [8.04573119e-01],\n",
       "       [9.54385207e-04],\n",
       "       [9.99564350e-01],\n",
       "       [9.95796859e-01],\n",
       "       [9.97816384e-01],\n",
       "       [9.93152618e-01],\n",
       "       [7.46436596e-01],\n",
       "       [3.20201134e-03],\n",
       "       [9.99647200e-01],\n",
       "       [5.60043706e-03],\n",
       "       [2.52746837e-03],\n",
       "       [1.69661245e-03],\n",
       "       [7.62857497e-01],\n",
       "       [3.70736001e-04],\n",
       "       [5.01390779e-03],\n",
       "       [3.87007640e-06],\n",
       "       [5.98404109e-01],\n",
       "       [9.17014539e-01],\n",
       "       [9.15854122e-04],\n",
       "       [3.80122801e-03],\n",
       "       [9.82875228e-01],\n",
       "       [9.99167383e-01],\n",
       "       [9.77004290e-01],\n",
       "       [9.97894406e-01],\n",
       "       [9.98242199e-01],\n",
       "       [6.63467795e-02],\n",
       "       [1.40241440e-02],\n",
       "       [9.97338057e-01],\n",
       "       [9.40654874e-01],\n",
       "       [2.59990548e-03],\n",
       "       [4.95495799e-04],\n",
       "       [9.23744589e-03],\n",
       "       [2.21261904e-02],\n",
       "       [1.00774996e-01],\n",
       "       [8.74892414e-01],\n",
       "       [9.79817033e-01],\n",
       "       [9.10218477e-01],\n",
       "       [6.35695517e-01],\n",
       "       [9.72884476e-01],\n",
       "       [9.98725414e-01],\n",
       "       [8.89601707e-01],\n",
       "       [8.73241981e-04],\n",
       "       [9.90468264e-01],\n",
       "       [8.12790334e-01],\n",
       "       [9.99922931e-01],\n",
       "       [1.13867737e-01],\n",
       "       [3.24241489e-01],\n",
       "       [5.30836685e-03],\n",
       "       [8.55732143e-01],\n",
       "       [9.55458403e-01],\n",
       "       [8.62070024e-01],\n",
       "       [1.68553635e-03],\n",
       "       [5.44225335e-01],\n",
       "       [1.22580409e-01],\n",
       "       [3.37605109e-03],\n",
       "       [1.31313145e-01],\n",
       "       [2.28704438e-02],\n",
       "       [9.82619226e-01],\n",
       "       [9.87027228e-01],\n",
       "       [2.24769097e-02],\n",
       "       [2.55012745e-03],\n",
       "       [1.47094373e-02],\n",
       "       [1.37195389e-06],\n",
       "       [9.98904824e-01],\n",
       "       [1.94395849e-04],\n",
       "       [1.87527478e-01],\n",
       "       [9.95510757e-01],\n",
       "       [8.02793443e-01],\n",
       "       [3.64187798e-07],\n",
       "       [2.98062742e-01],\n",
       "       [6.77899458e-03],\n",
       "       [9.11743760e-01],\n",
       "       [8.66961479e-03],\n",
       "       [9.40447867e-01],\n",
       "       [7.44070159e-04],\n",
       "       [9.96023774e-01],\n",
       "       [9.81892645e-01],\n",
       "       [6.35740208e-03],\n",
       "       [7.35025167e-01],\n",
       "       [6.39298186e-02],\n",
       "       [9.48425174e-01],\n",
       "       [1.47738116e-04],\n",
       "       [9.99971390e-01],\n",
       "       [9.97978806e-01],\n",
       "       [2.60740955e-04],\n",
       "       [7.89337814e-01]], dtype=float32)"
      ]
     },
     "execution_count": 100,
     "metadata": {},
     "output_type": "execute_result"
    }
   ],
   "source": [
    "model_run.predict(x_test)"
   ]
  },
  {
   "cell_type": "code",
   "execution_count": 101,
   "id": "73e7a93b",
   "metadata": {},
   "outputs": [
    {
     "data": {
      "text/plain": [
       "'appl good fruit'"
      ]
     },
     "execution_count": 101,
     "metadata": {},
     "output_type": "execute_result"
    }
   ],
   "source": [
    "process_text(\"Apple is good fruit\")"
   ]
  },
  {
   "cell_type": "code",
   "execution_count": null,
   "id": "1f07897c",
   "metadata": {},
   "outputs": [],
   "source": []
  }
 ],
 "metadata": {
  "kernelspec": {
   "display_name": "Python 3 (ipykernel)",
   "language": "python",
   "name": "python3"
  },
  "language_info": {
   "codemirror_mode": {
    "name": "ipython",
    "version": 3
   },
   "file_extension": ".py",
   "mimetype": "text/x-python",
   "name": "python",
   "nbconvert_exporter": "python",
   "pygments_lexer": "ipython3",
   "version": "3.9.0"
  }
 },
 "nbformat": 4,
 "nbformat_minor": 5
}
